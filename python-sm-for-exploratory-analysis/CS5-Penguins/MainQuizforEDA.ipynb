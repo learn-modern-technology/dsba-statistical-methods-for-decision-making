{
 "cells": [
  {
   "cell_type": "code",
   "execution_count": 55,
   "id": "588e5789",
   "metadata": {},
   "outputs": [],
   "source": [
    "data = [[10,'A'], [11,'B'], [12,'C'], [13, 'D']]"
   ]
  },
  {
   "cell_type": "code",
   "execution_count": 57,
   "id": "3653e1c1",
   "metadata": {},
   "outputs": [],
   "source": [
    "df2 = pd.DataFrame(data, columns=['Index', 'Column1'])"
   ]
  },
  {
   "cell_type": "code",
   "execution_count": 58,
   "id": "08fe463f",
   "metadata": {},
   "outputs": [
    {
     "data": {
      "text/html": [
       "<div>\n",
       "<style scoped>\n",
       "    .dataframe tbody tr th:only-of-type {\n",
       "        vertical-align: middle;\n",
       "    }\n",
       "\n",
       "    .dataframe tbody tr th {\n",
       "        vertical-align: top;\n",
       "    }\n",
       "\n",
       "    .dataframe thead th {\n",
       "        text-align: right;\n",
       "    }\n",
       "</style>\n",
       "<table border=\"1\" class=\"dataframe\">\n",
       "  <thead>\n",
       "    <tr style=\"text-align: right;\">\n",
       "      <th></th>\n",
       "      <th>Index</th>\n",
       "      <th>Column1</th>\n",
       "    </tr>\n",
       "  </thead>\n",
       "  <tbody>\n",
       "    <tr>\n",
       "      <th>0</th>\n",
       "      <td>10</td>\n",
       "      <td>A</td>\n",
       "    </tr>\n",
       "    <tr>\n",
       "      <th>1</th>\n",
       "      <td>11</td>\n",
       "      <td>B</td>\n",
       "    </tr>\n",
       "    <tr>\n",
       "      <th>2</th>\n",
       "      <td>12</td>\n",
       "      <td>C</td>\n",
       "    </tr>\n",
       "    <tr>\n",
       "      <th>3</th>\n",
       "      <td>13</td>\n",
       "      <td>D</td>\n",
       "    </tr>\n",
       "  </tbody>\n",
       "</table>\n",
       "</div>"
      ],
      "text/plain": [
       "   Index Column1\n",
       "0     10       A\n",
       "1     11       B\n",
       "2     12       C\n",
       "3     13       D"
      ]
     },
     "execution_count": 58,
     "metadata": {},
     "output_type": "execute_result"
    }
   ],
   "source": [
    "df2"
   ]
  },
  {
   "cell_type": "code",
   "execution_count": 63,
   "id": "1dcf5ad9",
   "metadata": {},
   "outputs": [
    {
     "data": {
      "text/plain": [
       "Index      11\n",
       "Column1     B\n",
       "Name: 1, dtype: object"
      ]
     },
     "execution_count": 63,
     "metadata": {},
     "output_type": "execute_result"
    }
   ],
   "source": [
    "df2.loc[1]"
   ]
  },
  {
   "cell_type": "code",
   "execution_count": 62,
   "id": "14995be8",
   "metadata": {},
   "outputs": [
    {
     "data": {
      "text/plain": [
       "Index      12\n",
       "Column1     C\n",
       "Name: 2, dtype: object"
      ]
     },
     "execution_count": 62,
     "metadata": {},
     "output_type": "execute_result"
    }
   ],
   "source": [
    "df2.iloc[2]"
   ]
  },
  {
   "cell_type": "code",
   "execution_count": 64,
   "id": "2551a0d1",
   "metadata": {},
   "outputs": [
    {
     "data": {
      "text/plain": [
       "Index      23\n",
       "Column1    BC\n",
       "dtype: object"
      ]
     },
     "execution_count": 64,
     "metadata": {},
     "output_type": "execute_result"
    }
   ],
   "source": [
    "df2.loc[1]+df2.iloc[2]"
   ]
  },
  {
   "cell_type": "code",
   "execution_count": 65,
   "id": "e59d074e",
   "metadata": {},
   "outputs": [],
   "source": [
    "import numpy as np\n",
    "import pandas as pd\n",
    "import matplotlib as mp\n",
    "import matplotlib.pyplot as plt\n",
    "import seaborn as sns\n",
    "%matplotlib inline\n",
    "\n",
    "from sklearn.impute import SimpleImputer\n",
    "from scipy.stats import zscore\n",
    "\n",
    "from sklearn.preprocessing import StandardScaler\n",
    "from sklearn.preprocessing import MinMaxScaler"
   ]
  },
  {
   "cell_type": "code",
   "execution_count": 66,
   "id": "e1d2deea",
   "metadata": {},
   "outputs": [],
   "source": [
    "df = pd.read_csv('PenguinsAnalysis.csv')"
   ]
  },
  {
   "cell_type": "code",
   "execution_count": 67,
   "id": "ceb7e16a",
   "metadata": {},
   "outputs": [
    {
     "data": {
      "text/html": [
       "<div>\n",
       "<style scoped>\n",
       "    .dataframe tbody tr th:only-of-type {\n",
       "        vertical-align: middle;\n",
       "    }\n",
       "\n",
       "    .dataframe tbody tr th {\n",
       "        vertical-align: top;\n",
       "    }\n",
       "\n",
       "    .dataframe thead th {\n",
       "        text-align: right;\n",
       "    }\n",
       "</style>\n",
       "<table border=\"1\" class=\"dataframe\">\n",
       "  <thead>\n",
       "    <tr style=\"text-align: right;\">\n",
       "      <th></th>\n",
       "      <th>species</th>\n",
       "      <th>island</th>\n",
       "      <th>culmen length</th>\n",
       "      <th>culmen depth</th>\n",
       "      <th>flipper length</th>\n",
       "      <th>body mass</th>\n",
       "      <th>sex</th>\n",
       "    </tr>\n",
       "  </thead>\n",
       "  <tbody>\n",
       "    <tr>\n",
       "      <th>0</th>\n",
       "      <td>Adelie</td>\n",
       "      <td>Torgersen</td>\n",
       "      <td>39.1</td>\n",
       "      <td>18.7</td>\n",
       "      <td>181</td>\n",
       "      <td>3750</td>\n",
       "      <td>MALE</td>\n",
       "    </tr>\n",
       "    <tr>\n",
       "      <th>1</th>\n",
       "      <td>Adelie</td>\n",
       "      <td>Torgersen</td>\n",
       "      <td>39.5</td>\n",
       "      <td>17.4</td>\n",
       "      <td>186</td>\n",
       "      <td>3800</td>\n",
       "      <td>FEMALE</td>\n",
       "    </tr>\n",
       "    <tr>\n",
       "      <th>2</th>\n",
       "      <td>Adelie</td>\n",
       "      <td>Torgersen</td>\n",
       "      <td>40.3</td>\n",
       "      <td>18.0</td>\n",
       "      <td>195</td>\n",
       "      <td>3250</td>\n",
       "      <td>FEMALE</td>\n",
       "    </tr>\n",
       "    <tr>\n",
       "      <th>3</th>\n",
       "      <td>Adelie</td>\n",
       "      <td>Torgersen</td>\n",
       "      <td>36.7</td>\n",
       "      <td>19.3</td>\n",
       "      <td>193</td>\n",
       "      <td>3450</td>\n",
       "      <td>FEMALE</td>\n",
       "    </tr>\n",
       "    <tr>\n",
       "      <th>4</th>\n",
       "      <td>Adelie</td>\n",
       "      <td>Torgersen</td>\n",
       "      <td>39.3</td>\n",
       "      <td>20.6</td>\n",
       "      <td>190</td>\n",
       "      <td>3650</td>\n",
       "      <td>MALE</td>\n",
       "    </tr>\n",
       "  </tbody>\n",
       "</table>\n",
       "</div>"
      ],
      "text/plain": [
       "  species     island  culmen length  culmen depth  flipper length  body mass  \\\n",
       "0  Adelie  Torgersen           39.1          18.7             181       3750   \n",
       "1  Adelie  Torgersen           39.5          17.4             186       3800   \n",
       "2  Adelie  Torgersen           40.3          18.0             195       3250   \n",
       "3  Adelie  Torgersen           36.7          19.3             193       3450   \n",
       "4  Adelie  Torgersen           39.3          20.6             190       3650   \n",
       "\n",
       "      sex  \n",
       "0    MALE  \n",
       "1  FEMALE  \n",
       "2  FEMALE  \n",
       "3  FEMALE  \n",
       "4    MALE  "
      ]
     },
     "execution_count": 67,
     "metadata": {},
     "output_type": "execute_result"
    }
   ],
   "source": [
    "df.head()"
   ]
  },
  {
   "cell_type": "code",
   "execution_count": 68,
   "id": "54e247b7",
   "metadata": {},
   "outputs": [
    {
     "data": {
      "text/plain": [
       "(333, 7)"
      ]
     },
     "execution_count": 68,
     "metadata": {},
     "output_type": "execute_result"
    }
   ],
   "source": [
    "df.shape"
   ]
  },
  {
   "cell_type": "code",
   "execution_count": 69,
   "id": "16574643",
   "metadata": {},
   "outputs": [
    {
     "name": "stdout",
     "output_type": "stream",
     "text": [
      "<class 'pandas.core.frame.DataFrame'>\n",
      "RangeIndex: 333 entries, 0 to 332\n",
      "Data columns (total 7 columns):\n",
      " #   Column          Non-Null Count  Dtype  \n",
      "---  ------          --------------  -----  \n",
      " 0   species         333 non-null    object \n",
      " 1   island          333 non-null    object \n",
      " 2   culmen length   333 non-null    float64\n",
      " 3   culmen depth    333 non-null    float64\n",
      " 4   flipper length  333 non-null    int64  \n",
      " 5   body mass       333 non-null    int64  \n",
      " 6   sex             333 non-null    object \n",
      "dtypes: float64(2), int64(2), object(3)\n",
      "memory usage: 18.3+ KB\n"
     ]
    }
   ],
   "source": [
    "df.info()"
   ]
  },
  {
   "cell_type": "code",
   "execution_count": 70,
   "id": "9d9d5dad",
   "metadata": {},
   "outputs": [
    {
     "data": {
      "image/png": "[encoded data removed]",
      "text/plain": [
       "<Figure size 640x480 with 1 Axes>"
      ]
     },
     "metadata": {},
     "output_type": "display_data"
    }
   ],
   "source": [
    "sns.boxplot(data=df, x=df['culmen length']);"
   ]
  },
  {
   "cell_type": "code",
   "execution_count": 71,
   "id": "970e36c0",
   "metadata": {},
   "outputs": [
    {
     "data": {
      "image/png": "[encoded data removed]",
      "text/plain": [
       "<Figure size 640x480 with 1 Axes>"
      ]
     },
     "metadata": {},
     "output_type": "display_data"
    }
   ],
   "source": [
    "sns.boxplot(data=df, x=df['culmen depth']);"
   ]
  },
  {
   "cell_type": "code",
   "execution_count": 72,
   "id": "24c29ef9",
   "metadata": {},
   "outputs": [
    {
     "data": {
      "image/png": "[encoded data removed]",
      "text/plain": [
       "<Figure size 640x480 with 1 Axes>"
      ]
     },
     "metadata": {},
     "output_type": "display_data"
    }
   ],
   "source": [
    "sns.boxplot(data=df, x=df['body mass']);"
   ]
  },
  {
   "cell_type": "code",
   "execution_count": 73,
   "id": "0861515e",
   "metadata": {},
   "outputs": [
    {
     "data": {
      "image/png": "[encoded data removed]",
      "text/plain": [
       "<Figure size 640x480 with 1 Axes>"
      ]
     },
     "metadata": {},
     "output_type": "display_data"
    }
   ],
   "source": [
    "sns.boxplot(data=df, x=df['body mass'], y=df['sex']);"
   ]
  },
  {
   "cell_type": "code",
   "execution_count": 74,
   "id": "92f4000f",
   "metadata": {},
   "outputs": [
    {
     "data": {
      "text/plain": [
       "<AxesSubplot: xlabel='species', ylabel='count'>"
      ]
     },
     "execution_count": 74,
     "metadata": {},
     "output_type": "execute_result"
    },
    {
     "data": {
      "image/png": "[encoded data removed]",
      "text/plain": [
       "<Figure size 640x480 with 1 Axes>"
      ]
     },
     "metadata": {},
     "output_type": "display_data"
    }
   ],
   "source": [
    "sns.countplot(data=df, x='species')"
   ]
  },
  {
   "cell_type": "code",
   "execution_count": 75,
   "id": "118bafdf",
   "metadata": {},
   "outputs": [
    {
     "data": {
      "image/png": "[encoded data removed]",
      "text/plain": [
       "<Figure size 640x480 with 1 Axes>"
      ]
     },
     "metadata": {},
     "output_type": "display_data"
    }
   ],
   "source": [
    "sns.countplot(data =df, x='island');"
   ]
  },
  {
   "cell_type": "code",
   "execution_count": 31,
   "id": "b28f187c",
   "metadata": {},
   "outputs": [
    {
     "data": {
      "text/html": [
       "<div>\n",
       "<style scoped>\n",
       "    .dataframe tbody tr th:only-of-type {\n",
       "        vertical-align: middle;\n",
       "    }\n",
       "\n",
       "    .dataframe tbody tr th {\n",
       "        vertical-align: top;\n",
       "    }\n",
       "\n",
       "    .dataframe thead th {\n",
       "        text-align: right;\n",
       "    }\n",
       "</style>\n",
       "<table border=\"1\" class=\"dataframe\">\n",
       "  <thead>\n",
       "    <tr style=\"text-align: right;\">\n",
       "      <th></th>\n",
       "      <th>culmen length</th>\n",
       "      <th>culmen depth</th>\n",
       "      <th>flipper length</th>\n",
       "      <th>body mass</th>\n",
       "    </tr>\n",
       "  </thead>\n",
       "  <tbody>\n",
       "    <tr>\n",
       "      <th>culmen length</th>\n",
       "      <td>1.000000</td>\n",
       "      <td>-0.228626</td>\n",
       "      <td>0.653096</td>\n",
       "      <td>0.589451</td>\n",
       "    </tr>\n",
       "    <tr>\n",
       "      <th>culmen depth</th>\n",
       "      <td>-0.228626</td>\n",
       "      <td>1.000000</td>\n",
       "      <td>-0.577792</td>\n",
       "      <td>-0.472016</td>\n",
       "    </tr>\n",
       "    <tr>\n",
       "      <th>flipper length</th>\n",
       "      <td>0.653096</td>\n",
       "      <td>-0.577792</td>\n",
       "      <td>1.000000</td>\n",
       "      <td>0.872979</td>\n",
       "    </tr>\n",
       "    <tr>\n",
       "      <th>body mass</th>\n",
       "      <td>0.589451</td>\n",
       "      <td>-0.472016</td>\n",
       "      <td>0.872979</td>\n",
       "      <td>1.000000</td>\n",
       "    </tr>\n",
       "  </tbody>\n",
       "</table>\n",
       "</div>"
      ],
      "text/plain": [
       "                culmen length  culmen depth  flipper length  body mass\n",
       "culmen length        1.000000     -0.228626        0.653096   0.589451\n",
       "culmen depth        -0.228626      1.000000       -0.577792  -0.472016\n",
       "flipper length       0.653096     -0.577792        1.000000   0.872979\n",
       "body mass            0.589451     -0.472016        0.872979   1.000000"
      ]
     },
     "execution_count": 31,
     "metadata": {},
     "output_type": "execute_result"
    }
   ],
   "source": [
    "df.corr()"
   ]
  },
  {
   "cell_type": "code",
   "execution_count": 38,
   "id": "41ac8e2f",
   "metadata": {},
   "outputs": [
    {
     "data": {
      "text/plain": [
       "species              Adelie\n",
       "island            Torgersen\n",
       "culmen length          42.5\n",
       "culmen depth           20.7\n",
       "flipper length          197\n",
       "body mass              4500\n",
       "sex                    MALE\n",
       "Name: 12, dtype: object"
      ]
     },
     "execution_count": 38,
     "metadata": {},
     "output_type": "execute_result"
    }
   ],
   "source": [
    "df.loc[12]"
   ]
  },
  {
   "cell_type": "code",
   "execution_count": 40,
   "id": "4b1455e2",
   "metadata": {},
   "outputs": [
    {
     "data": {
      "text/html": [
       "<div>\n",
       "<style scoped>\n",
       "    .dataframe tbody tr th:only-of-type {\n",
       "        vertical-align: middle;\n",
       "    }\n",
       "\n",
       "    .dataframe tbody tr th {\n",
       "        vertical-align: top;\n",
       "    }\n",
       "\n",
       "    .dataframe thead th {\n",
       "        text-align: right;\n",
       "    }\n",
       "</style>\n",
       "<table border=\"1\" class=\"dataframe\">\n",
       "  <thead>\n",
       "    <tr style=\"text-align: right;\">\n",
       "      <th></th>\n",
       "      <th>species</th>\n",
       "      <th>island</th>\n",
       "      <th>culmen length</th>\n",
       "      <th>culmen depth</th>\n",
       "      <th>flipper length</th>\n",
       "      <th>body mass</th>\n",
       "      <th>sex</th>\n",
       "    </tr>\n",
       "  </thead>\n",
       "  <tbody>\n",
       "    <tr>\n",
       "      <th>0</th>\n",
       "      <td>Adelie</td>\n",
       "      <td>Torgersen</td>\n",
       "      <td>39.1</td>\n",
       "      <td>18.7</td>\n",
       "      <td>181</td>\n",
       "      <td>3750</td>\n",
       "      <td>MALE</td>\n",
       "    </tr>\n",
       "    <tr>\n",
       "      <th>1</th>\n",
       "      <td>Adelie</td>\n",
       "      <td>Torgersen</td>\n",
       "      <td>39.5</td>\n",
       "      <td>17.4</td>\n",
       "      <td>186</td>\n",
       "      <td>3800</td>\n",
       "      <td>FEMALE</td>\n",
       "    </tr>\n",
       "    <tr>\n",
       "      <th>2</th>\n",
       "      <td>Adelie</td>\n",
       "      <td>Torgersen</td>\n",
       "      <td>40.3</td>\n",
       "      <td>18.0</td>\n",
       "      <td>195</td>\n",
       "      <td>3250</td>\n",
       "      <td>FEMALE</td>\n",
       "    </tr>\n",
       "    <tr>\n",
       "      <th>3</th>\n",
       "      <td>Adelie</td>\n",
       "      <td>Torgersen</td>\n",
       "      <td>36.7</td>\n",
       "      <td>19.3</td>\n",
       "      <td>193</td>\n",
       "      <td>3450</td>\n",
       "      <td>FEMALE</td>\n",
       "    </tr>\n",
       "    <tr>\n",
       "      <th>4</th>\n",
       "      <td>Adelie</td>\n",
       "      <td>Torgersen</td>\n",
       "      <td>39.3</td>\n",
       "      <td>20.6</td>\n",
       "      <td>190</td>\n",
       "      <td>3650</td>\n",
       "      <td>MALE</td>\n",
       "    </tr>\n",
       "    <tr>\n",
       "      <th>5</th>\n",
       "      <td>Adelie</td>\n",
       "      <td>Torgersen</td>\n",
       "      <td>38.9</td>\n",
       "      <td>17.8</td>\n",
       "      <td>181</td>\n",
       "      <td>3625</td>\n",
       "      <td>FEMALE</td>\n",
       "    </tr>\n",
       "    <tr>\n",
       "      <th>6</th>\n",
       "      <td>Adelie</td>\n",
       "      <td>Torgersen</td>\n",
       "      <td>39.2</td>\n",
       "      <td>19.6</td>\n",
       "      <td>195</td>\n",
       "      <td>4675</td>\n",
       "      <td>MALE</td>\n",
       "    </tr>\n",
       "    <tr>\n",
       "      <th>7</th>\n",
       "      <td>Adelie</td>\n",
       "      <td>Torgersen</td>\n",
       "      <td>41.1</td>\n",
       "      <td>17.6</td>\n",
       "      <td>182</td>\n",
       "      <td>3200</td>\n",
       "      <td>FEMALE</td>\n",
       "    </tr>\n",
       "    <tr>\n",
       "      <th>8</th>\n",
       "      <td>Adelie</td>\n",
       "      <td>Torgersen</td>\n",
       "      <td>38.6</td>\n",
       "      <td>21.2</td>\n",
       "      <td>191</td>\n",
       "      <td>3800</td>\n",
       "      <td>MALE</td>\n",
       "    </tr>\n",
       "    <tr>\n",
       "      <th>9</th>\n",
       "      <td>Adelie</td>\n",
       "      <td>Torgersen</td>\n",
       "      <td>34.6</td>\n",
       "      <td>21.1</td>\n",
       "      <td>198</td>\n",
       "      <td>4400</td>\n",
       "      <td>MALE</td>\n",
       "    </tr>\n",
       "    <tr>\n",
       "      <th>10</th>\n",
       "      <td>Adelie</td>\n",
       "      <td>Torgersen</td>\n",
       "      <td>36.6</td>\n",
       "      <td>17.8</td>\n",
       "      <td>185</td>\n",
       "      <td>3700</td>\n",
       "      <td>FEMALE</td>\n",
       "    </tr>\n",
       "    <tr>\n",
       "      <th>11</th>\n",
       "      <td>Adelie</td>\n",
       "      <td>Torgersen</td>\n",
       "      <td>38.7</td>\n",
       "      <td>19.0</td>\n",
       "      <td>195</td>\n",
       "      <td>3450</td>\n",
       "      <td>FEMALE</td>\n",
       "    </tr>\n",
       "    <tr>\n",
       "      <th>12</th>\n",
       "      <td>Adelie</td>\n",
       "      <td>Torgersen</td>\n",
       "      <td>42.5</td>\n",
       "      <td>20.7</td>\n",
       "      <td>197</td>\n",
       "      <td>4500</td>\n",
       "      <td>MALE</td>\n",
       "    </tr>\n",
       "  </tbody>\n",
       "</table>\n",
       "</div>"
      ],
      "text/plain": [
       "   species     island  culmen length  culmen depth  flipper length  body mass  \\\n",
       "0   Adelie  Torgersen           39.1          18.7             181       3750   \n",
       "1   Adelie  Torgersen           39.5          17.4             186       3800   \n",
       "2   Adelie  Torgersen           40.3          18.0             195       3250   \n",
       "3   Adelie  Torgersen           36.7          19.3             193       3450   \n",
       "4   Adelie  Torgersen           39.3          20.6             190       3650   \n",
       "5   Adelie  Torgersen           38.9          17.8             181       3625   \n",
       "6   Adelie  Torgersen           39.2          19.6             195       4675   \n",
       "7   Adelie  Torgersen           41.1          17.6             182       3200   \n",
       "8   Adelie  Torgersen           38.6          21.2             191       3800   \n",
       "9   Adelie  Torgersen           34.6          21.1             198       4400   \n",
       "10  Adelie  Torgersen           36.6          17.8             185       3700   \n",
       "11  Adelie  Torgersen           38.7          19.0             195       3450   \n",
       "12  Adelie  Torgersen           42.5          20.7             197       4500   \n",
       "\n",
       "       sex  \n",
       "0     MALE  \n",
       "1   FEMALE  \n",
       "2   FEMALE  \n",
       "3   FEMALE  \n",
       "4     MALE  \n",
       "5   FEMALE  \n",
       "6     MALE  \n",
       "7   FEMALE  \n",
       "8     MALE  \n",
       "9     MALE  \n",
       "10  FEMALE  \n",
       "11  FEMALE  \n",
       "12    MALE  "
      ]
     },
     "execution_count": 40,
     "metadata": {},
     "output_type": "execute_result"
    }
   ],
   "source": [
    "df.head(13)"
   ]
  },
  {
   "cell_type": "code",
   "execution_count": 77,
   "id": "ff0877c2",
   "metadata": {
    "scrolled": true
   },
   "outputs": [
    {
     "data": {
      "text/plain": [
       "species\n",
       "Adelie       4043.493151\n",
       "Chinstrap    3938.970588\n",
       "Gentoo       5484.836066\n",
       "Name: body mass, dtype: float64"
      ]
     },
     "execution_count": 77,
     "metadata": {},
     "output_type": "execute_result"
    }
   ],
   "source": [
    "df[df['sex']=='MALE'].groupby('species')['body mass'].mean()"
   ]
  },
  {
   "cell_type": "code",
   "execution_count": 94,
   "id": "aa0b7d11",
   "metadata": {},
   "outputs": [
    {
     "data": {
      "text/plain": [
       "14.237931034482758"
      ]
     },
     "execution_count": 94,
     "metadata": {},
     "output_type": "execute_result"
    }
   ],
   "source": [
    "df[(df['sex']=='FEMALE') & (df['species']=='Gentoo') & (df['island']=='Biscoe')]['culmen depth'].mean()"
   ]
  },
  {
   "cell_type": "code",
   "execution_count": 96,
   "id": "9d0d5e26",
   "metadata": {},
   "outputs": [
    {
     "data": {
      "text/plain": [
       "108    20.7\n",
       "205    19.4\n",
       "3      19.3\n",
       "33     19.3\n",
       "17     19.2\n",
       "       ... \n",
       "230    13.5\n",
       "222    13.4\n",
       "261    13.3\n",
       "214    13.2\n",
       "238    13.1\n",
       "Name: culmen depth, Length: 165, dtype: float64"
      ]
     },
     "execution_count": 96,
     "metadata": {},
     "output_type": "execute_result"
    }
   ],
   "source": [
    "df[df['sex']=='FEMALE']['culmen depth'].sort_values(ascending=False)"
   ]
  },
  {
   "cell_type": "code",
   "execution_count": 99,
   "id": "486c803a",
   "metadata": {},
   "outputs": [
    {
     "data": {
      "text/plain": [
       "island\n",
       "Biscoe       19.036364\n",
       "Dream        18.839286\n",
       "Torgersen    19.391304\n",
       "Name: culmen depth, dtype: float64"
      ]
     },
     "execution_count": 99,
     "metadata": {},
     "output_type": "execute_result"
    }
   ],
   "source": [
    "df[(df['sex']=='MALE') & (df['species']=='Adelie')].groupby('island')['culmen depth'].mean()"
   ]
  },
  {
   "cell_type": "code",
   "execution_count": 88,
   "id": "df6bf1db",
   "metadata": {},
   "outputs": [
    {
     "data": {
      "text/html": [
       "<div>\n",
       "<style scoped>\n",
       "    .dataframe tbody tr th:only-of-type {\n",
       "        vertical-align: middle;\n",
       "    }\n",
       "\n",
       "    .dataframe tbody tr th {\n",
       "        vertical-align: top;\n",
       "    }\n",
       "\n",
       "    .dataframe thead th {\n",
       "        text-align: right;\n",
       "    }\n",
       "</style>\n",
       "<table border=\"1\" class=\"dataframe\">\n",
       "  <thead>\n",
       "    <tr style=\"text-align: right;\">\n",
       "      <th></th>\n",
       "      <th>species</th>\n",
       "      <th>island</th>\n",
       "      <th>culmen length</th>\n",
       "      <th>culmen depth</th>\n",
       "      <th>flipper length</th>\n",
       "      <th>body mass</th>\n",
       "      <th>sex</th>\n",
       "    </tr>\n",
       "  </thead>\n",
       "  <tbody>\n",
       "    <tr>\n",
       "      <th>309</th>\n",
       "      <td>Gentoo</td>\n",
       "      <td>Biscoe</td>\n",
       "      <td>46.9</td>\n",
       "      <td>14.6</td>\n",
       "      <td>222</td>\n",
       "      <td>4875</td>\n",
       "      <td>FEMALE</td>\n",
       "    </tr>\n",
       "    <tr>\n",
       "      <th>247</th>\n",
       "      <td>Gentoo</td>\n",
       "      <td>Biscoe</td>\n",
       "      <td>49.1</td>\n",
       "      <td>14.8</td>\n",
       "      <td>220</td>\n",
       "      <td>5150</td>\n",
       "      <td>FEMALE</td>\n",
       "    </tr>\n",
       "    <tr>\n",
       "      <th>280</th>\n",
       "      <td>Gentoo</td>\n",
       "      <td>Biscoe</td>\n",
       "      <td>43.5</td>\n",
       "      <td>14.2</td>\n",
       "      <td>220</td>\n",
       "      <td>4700</td>\n",
       "      <td>FEMALE</td>\n",
       "    </tr>\n",
       "    <tr>\n",
       "      <th>277</th>\n",
       "      <td>Gentoo</td>\n",
       "      <td>Biscoe</td>\n",
       "      <td>45.8</td>\n",
       "      <td>14.2</td>\n",
       "      <td>219</td>\n",
       "      <td>4700</td>\n",
       "      <td>FEMALE</td>\n",
       "    </tr>\n",
       "    <tr>\n",
       "      <th>312</th>\n",
       "      <td>Gentoo</td>\n",
       "      <td>Biscoe</td>\n",
       "      <td>48.5</td>\n",
       "      <td>15.0</td>\n",
       "      <td>219</td>\n",
       "      <td>4850</td>\n",
       "      <td>FEMALE</td>\n",
       "    </tr>\n",
       "    <tr>\n",
       "      <th>302</th>\n",
       "      <td>Gentoo</td>\n",
       "      <td>Biscoe</td>\n",
       "      <td>47.5</td>\n",
       "      <td>15.0</td>\n",
       "      <td>218</td>\n",
       "      <td>4950</td>\n",
       "      <td>FEMALE</td>\n",
       "    </tr>\n",
       "    <tr>\n",
       "      <th>298</th>\n",
       "      <td>Gentoo</td>\n",
       "      <td>Biscoe</td>\n",
       "      <td>43.4</td>\n",
       "      <td>14.4</td>\n",
       "      <td>218</td>\n",
       "      <td>4600</td>\n",
       "      <td>FEMALE</td>\n",
       "    </tr>\n",
       "    <tr>\n",
       "      <th>258</th>\n",
       "      <td>Gentoo</td>\n",
       "      <td>Biscoe</td>\n",
       "      <td>43.6</td>\n",
       "      <td>13.9</td>\n",
       "      <td>217</td>\n",
       "      <td>4900</td>\n",
       "      <td>FEMALE</td>\n",
       "    </tr>\n",
       "    <tr>\n",
       "      <th>325</th>\n",
       "      <td>Gentoo</td>\n",
       "      <td>Biscoe</td>\n",
       "      <td>46.2</td>\n",
       "      <td>14.1</td>\n",
       "      <td>217</td>\n",
       "      <td>4375</td>\n",
       "      <td>FEMALE</td>\n",
       "    </tr>\n",
       "    <tr>\n",
       "      <th>267</th>\n",
       "      <td>Gentoo</td>\n",
       "      <td>Biscoe</td>\n",
       "      <td>46.5</td>\n",
       "      <td>14.4</td>\n",
       "      <td>217</td>\n",
       "      <td>4900</td>\n",
       "      <td>FEMALE</td>\n",
       "    </tr>\n",
       "  </tbody>\n",
       "</table>\n",
       "</div>"
      ],
      "text/plain": [
       "    species  island  culmen length  culmen depth  flipper length  body mass  \\\n",
       "309  Gentoo  Biscoe           46.9          14.6             222       4875   \n",
       "247  Gentoo  Biscoe           49.1          14.8             220       5150   \n",
       "280  Gentoo  Biscoe           43.5          14.2             220       4700   \n",
       "277  Gentoo  Biscoe           45.8          14.2             219       4700   \n",
       "312  Gentoo  Biscoe           48.5          15.0             219       4850   \n",
       "302  Gentoo  Biscoe           47.5          15.0             218       4950   \n",
       "298  Gentoo  Biscoe           43.4          14.4             218       4600   \n",
       "258  Gentoo  Biscoe           43.6          13.9             217       4900   \n",
       "325  Gentoo  Biscoe           46.2          14.1             217       4375   \n",
       "267  Gentoo  Biscoe           46.5          14.4             217       4900   \n",
       "\n",
       "        sex  \n",
       "309  FEMALE  \n",
       "247  FEMALE  \n",
       "280  FEMALE  \n",
       "277  FEMALE  \n",
       "312  FEMALE  \n",
       "302  FEMALE  \n",
       "298  FEMALE  \n",
       "258  FEMALE  \n",
       "325  FEMALE  \n",
       "267  FEMALE  "
      ]
     },
     "execution_count": 88,
     "metadata": {},
     "output_type": "execute_result"
    }
   ],
   "source": [
    "df[df['sex']=='FEMALE'].sort_values(by='flipper length', ascending=False).head(10)"
   ]
  }
 ],
 "metadata": {
  "kernelspec": {
   "display_name": "Python 3 (ipykernel)",
   "language": "python",
   "name": "python3"
  },
  "language_info": {
   "codemirror_mode": {
    "name": "ipython",
    "version": 3
   },
   "file_extension": ".py",
   "mimetype": "text/x-python",
   "name": "python",
   "nbconvert_exporter": "python",
   "pygments_lexer": "ipython3",
   "version": "3.9.15"
  }
 },
 "nbformat": 4,
 "nbformat_minor": 5
}
